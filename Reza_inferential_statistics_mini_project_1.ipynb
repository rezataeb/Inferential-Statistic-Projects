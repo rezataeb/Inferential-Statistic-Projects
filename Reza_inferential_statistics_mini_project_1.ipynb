{
 "cells": [
  {
   "cell_type": "markdown",
   "metadata": {},
   "source": [
    "# What is the True Normal Human Body Temperature? \n",
    "\n",
    "#### Background\n",
    "\n",
    "The mean normal body temperature was held to be 37$^{\\circ}$C or 98.6$^{\\circ}$F for more than 120 years since it was first conceptualized and reported by Carl Wunderlich in a famous 1868 book. But, is this value statistically correct?"
   ]
  },
  {
   "cell_type": "markdown",
   "metadata": {},
   "source": [
    "<h3>Exercises</h3>\n",
    "\n",
    "<p>In this exercise, you will analyze a dataset of human body temperatures and employ the concepts of hypothesis testing, confidence intervals, and statistical significance.</p>\n",
    "\n",
    "<p>Answer the following questions <b>in this notebook below and submit to your Github account</b>.</p> \n",
    "\n",
    "<ol>\n",
    "<li>  Is the distribution of body temperatures normal? \n",
    "    <ul>\n",
    "    <li> Although this is not a requirement for CLT to hold (read CLT carefully), it gives us some peace of mind that the population may also be normally distributed if we assume that this sample is representative of the population.\n",
    "    </ul>\n",
    "<li>  Is the sample size large? Are the observations independent?\n",
    "    <ul>\n",
    "    <li> Remember that this is a condition for the CLT, and hence the statistical tests we are using, to apply.\n",
    "    </ul>\n",
    "<li>  Is the true population mean really 98.6 degrees F?\n",
    "    <ul>\n",
    "    <li> Would you use a one-sample or two-sample test? Why?\n",
    "    <li> In this situation, is it appropriate to use the $t$ or $z$ statistic? \n",
    "    <li> Now try using the other test. How is the result be different? Why?\n",
    "    </ul>\n",
    "<li>  Draw a small sample of size 10 from the data and repeat both tests. \n",
    "    <ul>\n",
    "    <li> Which one is the correct one to use? \n",
    "    <li> What do you notice? What does this tell you about the difference in application of the $t$ and $z$ statistic?\n",
    "    </ul>\n",
    "<li>  At what temperature should we consider someone's temperature to be \"abnormal\"?\n",
    "    <ul>\n",
    "    <li> Start by computing the margin of error and confidence interval.\n",
    "    </ul>\n",
    "<li>  Is there a significant difference between males and females in normal temperature?\n",
    "    <ul>\n",
    "    <li> What test did you use and why?\n",
    "    <li> Write a story with your conclusion in the context of the original problem.\n",
    "    </ul>\n",
    "</ol>\n",
    "\n",
    "You can include written notes in notebook cells using Markdown: \n",
    "   - In the control panel at the top, choose Cell > Cell Type > Markdown\n",
    "   - Markdown syntax: http://nestacms.com/docs/creating-content/markdown-cheat-sheet\n",
    "\n",
    "#### Resources\n",
    "\n",
    "+ Information and data sources: http://www.amstat.org/publications/jse/datasets/normtemp.txt, http://www.amstat.org/publications/jse/jse_data_archive.htm\n",
    "+ Markdown syntax: http://nestacms.com/docs/creating-content/markdown-cheat-sheet\n",
    "\n",
    "****"
   ]
  },
  {
   "cell_type": "code",
   "execution_count": 116,
   "metadata": {
    "collapsed": true
   },
   "outputs": [],
   "source": [
    "import pandas as pd\n",
    "\n",
    "df = pd.read_csv('data/human_body_temperature.csv')"
   ]
  },
  {
   "cell_type": "code",
   "execution_count": 117,
   "metadata": {
    "collapsed": true
   },
   "outputs": [],
   "source": [
    "# Your work here.\n",
    "\n",
    "import matplotlib.pyplot as plt \n",
    "import numpy as np\n",
    "%matplotlib inline\n",
    "from scipy import stats\n",
    "import seaborn as sns\n"
   ]
  },
  {
   "cell_type": "code",
   "execution_count": 118,
   "metadata": {},
   "outputs": [
    {
     "data": {
      "text/html": [
       "<div>\n",
       "<style>\n",
       "    .dataframe thead tr:only-child th {\n",
       "        text-align: right;\n",
       "    }\n",
       "\n",
       "    .dataframe thead th {\n",
       "        text-align: left;\n",
       "    }\n",
       "\n",
       "    .dataframe tbody tr th {\n",
       "        vertical-align: top;\n",
       "    }\n",
       "</style>\n",
       "<table border=\"1\" class=\"dataframe\">\n",
       "  <thead>\n",
       "    <tr style=\"text-align: right;\">\n",
       "      <th></th>\n",
       "      <th>temperature</th>\n",
       "      <th>gender</th>\n",
       "      <th>heart_rate</th>\n",
       "    </tr>\n",
       "  </thead>\n",
       "  <tbody>\n",
       "    <tr>\n",
       "      <th>0</th>\n",
       "      <td>99.3</td>\n",
       "      <td>F</td>\n",
       "      <td>68.0</td>\n",
       "    </tr>\n",
       "    <tr>\n",
       "      <th>1</th>\n",
       "      <td>98.4</td>\n",
       "      <td>F</td>\n",
       "      <td>81.0</td>\n",
       "    </tr>\n",
       "    <tr>\n",
       "      <th>2</th>\n",
       "      <td>97.8</td>\n",
       "      <td>M</td>\n",
       "      <td>73.0</td>\n",
       "    </tr>\n",
       "    <tr>\n",
       "      <th>3</th>\n",
       "      <td>99.2</td>\n",
       "      <td>F</td>\n",
       "      <td>66.0</td>\n",
       "    </tr>\n",
       "    <tr>\n",
       "      <th>4</th>\n",
       "      <td>98.0</td>\n",
       "      <td>F</td>\n",
       "      <td>73.0</td>\n",
       "    </tr>\n",
       "  </tbody>\n",
       "</table>\n",
       "</div>"
      ],
      "text/plain": [
       "   temperature gender  heart_rate\n",
       "0         99.3      F        68.0\n",
       "1         98.4      F        81.0\n",
       "2         97.8      M        73.0\n",
       "3         99.2      F        66.0\n",
       "4         98.0      F        73.0"
      ]
     },
     "execution_count": 118,
     "metadata": {},
     "output_type": "execute_result"
    }
   ],
   "source": [
    "# Get initial insight of data \n",
    "\n",
    "df.head()"
   ]
  },
  {
   "cell_type": "markdown",
   "metadata": {},
   "source": [
    "### 1 - Is the distribution of body temperatures normal?"
   ]
  },
  {
   "cell_type": "code",
   "execution_count": 119,
   "metadata": {},
   "outputs": [
    {
     "data": {
      "image/png": "[encoded data removed]",
      "text/plain": [
       "<matplotlib.figure.Figure at 0x1a123ac390>"
      ]
     },
     "metadata": {},
     "output_type": "display_data"
    }
   ],
   "source": [
    "# Plot histogram  \n",
    "\n",
    "_ = plt.hist(df[\"temperature\"] ,normed=True, bins = 20)\n",
    "_ = plt.ylabel(\"PDF\")\n",
    "_ = plt.xlabel(\"Temperature (F)\")\n",
    "_ = plt.title(\"Temperature Distribution\")\n",
    "\n",
    "temp_samp_mean = np.mean(df['temperature'])\n",
    "temp_samp_std = np.std(df['temperature'])\n",
    "t_sample = np.random.normal(temp_samp_mean,temp_samp_std,100000)\n",
    "_ = plt.hist(t_sample, normed=True , bins=50 , histtype='step')\n",
    "\n",
    "plt.show()"
   ]
  },
  {
   "cell_type": "markdown",
   "metadata": {},
   "source": [
    "The plot shows that the temp distribution is very closed to Normal Dist, however we have to check it with normaltest too."
   ]
  },
  {
   "cell_type": "code",
   "execution_count": 120,
   "metadata": {
    "scrolled": true
   },
   "outputs": [
    {
     "name": "stdout",
     "output_type": "stream",
     "text": [
      "NormaltestResult(statistic=2.7038014333192031, pvalue=0.2587479863488254)\n"
     ]
    }
   ],
   "source": [
    "# Check the temp normal dist with normaltest \n",
    "\n",
    "result = stats.normaltest(df['temperature'])\n",
    "print (result)\n"
   ]
  },
  {
   "cell_type": "markdown",
   "metadata": {},
   "source": [
    "since p-value (0.25) > 0.05, we can not reject the null hypothesis and we have to say the dist is \"Normal\". "
   ]
  },
  {
   "cell_type": "markdown",
   "metadata": {},
   "source": [
    "### 2. Is the sample size large? Are the observations independent?"
   ]
  },
  {
   "cell_type": "code",
   "execution_count": 121,
   "metadata": {},
   "outputs": [
    {
     "name": "stdout",
     "output_type": "stream",
     "text": [
      "130\n"
     ]
    }
   ],
   "source": [
    "size = df[\"temperature\"].count()\n",
    "print (size)"
   ]
  },
  {
   "cell_type": "markdown",
   "metadata": {},
   "source": [
    "For realizing whether a sample size is large enough or not, we have to consider the confidence level that is appropiate for us and its related Z score. \n",
    "\n",
    "Some special confidence level and their Z scores are: \n",
    "\n",
    "90% – Z Score = 1.645\n",
    "95% – Z Score = 1.96\n",
    "99% – Z Score = 2.576\n",
    "\n",
    "\n",
    "So now we have to figure out with the current Standard Deviation, and different groups of confince interval and Z what would be Necessary Sample Size:  \n",
    "\n",
    "Necessary Sample Size = (Z-score)2 * StdDev*(1-StdDev) / (margin of error)2\n",
    "\n",
    "Now since we do not know the exact Standard Deviation of Population, we will use 0.5 since it will give us the maximum Necessary Sample Size. \n",
    "\n",
    "For 90% confidence level and 2.5% Margin of error, the necessary sample size is: \n",
    "(1.645^2) * (0.5^2) / (0.025^2) = 1082\n",
    "\n",
    "For 95% confidence level and 5% Margin of error, the necessary sample size is: \n",
    "(1.96^2) * (0.5^2) / (0.05^2) = 384\n",
    "\n",
    "For 95% confidence level and 10% Margin of error, the necessary sample size is: \n",
    "(1.96^2) * (0.5^2) / (0.1^2) = 96 \n",
    "\n",
    "For 99% confidence level and 10% Margin of error, the necessary sample size is: \n",
    "(2.576^2) * (0.5^2) / (0.1^2) = 165 \n",
    "\n",
    "So the sample size is relatively large enough (n>30) , and we can expect that our result with 95% confidence level has margin error less than 10% which can be acceptable. "
   ]
  },
  {
   "cell_type": "markdown",
   "metadata": {},
   "source": [
    "- Are the observations independent ? \n",
    "\n",
    "As far as we can tell based on the information that we have here, each observation is independent since we measured the gender, body temp, and heart beat of different people and not same people so we can tell observations are independent. However for giving more accurate answer to this question we may need more infomration of participants such as age, race and etc. "
   ]
  },
  {
   "cell_type": "markdown",
   "metadata": {},
   "source": [
    "### 3. Is the true population mean really 98.6 degrees F?"
   ]
  },
  {
   "cell_type": "markdown",
   "metadata": {},
   "source": [
    "Since we have one data set and just population mean, we will use one-sample test. In this regard, the null hypothesis is: \"true population mean is 98.6 F\" and the alternative hypothesis is \"true population mean is not 98.6 F\". \n",
    "Also in order to choose between z-score and t-test, we have to consider z-score is better but we need population variance and enough sample size. Here we do not know the population variance, so we will begin with t-test. \n"
   ]
  },
  {
   "cell_type": "code",
   "execution_count": 122,
   "metadata": {},
   "outputs": [
    {
     "name": "stdout",
     "output_type": "stream",
     "text": [
      "Ttest_1sampResult(statistic=-5.4548232923645195, pvalue=2.4106320415561276e-07)\n"
     ]
    }
   ],
   "source": [
    "# one-sample t-test \n",
    "\n",
    "one_samp_t_score = stats.ttest_1samp(df['temperature'], 98.6)\n",
    "print (one_samp_t_score)"
   ]
  },
  {
   "cell_type": "markdown",
   "metadata": {},
   "source": [
    "T_score and P-Value are very small, so it shows that there is significant difference between sample mean and true body temperature mean (98.6 F), therefore the true population mean is **not** 98.6 F. \n",
    "In next step, I am using the other test (z-test) to figure out whether I would get the significant difference from this test or not. "
   ]
  },
  {
   "cell_type": "code",
   "execution_count": 123,
   "metadata": {},
   "outputs": [
    {
     "name": "stdout",
     "output_type": "stream",
     "text": [
      "(-5.4548232923645195, 4.9021570141012155e-08)\n",
      "The t-score value is -5.454823 with the P-value of: 0.000000241\n",
      "The z-score value is -5.454823 with the P-value of: 0.000000049\n"
     ]
    }
   ],
   "source": [
    "# z-test \n",
    "\n",
    "from statsmodels.stats.weightstats import ztest\n",
    "\n",
    "z_score = ztest(df['temperature'],value=98.6)\n",
    "print (z_score)\n",
    "print (\"The t-score value is %F with the P-value of: %6.9F\" %(one_samp_t_score[0], one_samp_t_score[1]))\n",
    "print (\"The z-score value is %F with the P-value of: %6.9F\" %(z_score[0], z_score[1]))"
   ]
  },
  {
   "cell_type": "markdown",
   "metadata": {},
   "source": [
    "The results of Z-test and t-test are not much different, both of them reject the null hypothesis and shows the same score, the only difference is in their p-value (however again both of them has a very very small p-values). So both test say that the real mean population is different from 98.6 F. "
   ]
  },
  {
   "cell_type": "markdown",
   "metadata": {},
   "source": [
    "### 4. Draw a small sample of size 10 from the data and repeat both tests."
   ]
  },
  {
   "cell_type": "code",
   "execution_count": 124,
   "metadata": {},
   "outputs": [
    {
     "name": "stdout",
     "output_type": "stream",
     "text": [
      "Small sample size: [ 97.3  97.6  96.4  96.4  97.4  97.6  98.6  99.2  98.4  99. ]\n",
      "The t-score value for small sample is -2.589065 with the P-value of: 0.029258307\n",
      "The z-score value for small sample is -2.589065 with the P-value of: 0.009623690\n"
     ]
    }
   ],
   "source": [
    "# Define the random sampling function \n",
    "\n",
    "def bootstrap_samp(data , size=1): \n",
    "    new_sample = np.random.choice(data , size)\n",
    "    return new_sample \n",
    "\n",
    "# Use the function to draw a small sample of size 10 \n",
    "\n",
    "new_temp_samp = bootstrap_samp(df['temperature'], size=10)\n",
    "print (\"Small sample size:\", new_temp_samp)\n",
    "\n",
    "# t-test and z-test for new small sample size \n",
    "\n",
    "one_samp_t_test_newsamp = stats.ttest_1samp(new_temp_samp, 98.6)\n",
    "z_score_newsamp = ztest(new_temp_samp, value=98.6)\n",
    "\n",
    "print (\"The t-score value for small sample is %F with the P-value of: %6.9F\" %(one_samp_t_test_newsamp[0], one_samp_t_test_newsamp[1]))\n",
    "print (\"The z-score value for small sample is %F with the P-value of: %6.9F\" %(z_score_newsamp[0], z_score_newsamp[1]))\n"
   ]
  },
  {
   "cell_type": "markdown",
   "metadata": {},
   "source": [
    "Looking to the results of new small sample size t-test and z-test, we can tell that the p-value increased significantly so we can not reject the null hypothesis anymore and we should say the real population mean is 98.6 F. \n",
    "In the case of having small sample size (n <30 ), we should trust z-score more than t-score, although in this case the output does not have so much difference.  "
   ]
  },
  {
   "cell_type": "markdown",
   "metadata": {},
   "source": [
    "### 5. At what temperature should we consider someone's temperature to be \"abnormal\"?"
   ]
  },
  {
   "cell_type": "markdown",
   "metadata": {},
   "source": [
    "Defining something abnormal needs some knowledge and background in specific field (here health and biology), but as a rule of thumb, I assume that a body temperatue outside the range of 95% confidence interval would be abnormal. In this regard, I need to measure the cofidence interval and margin of error. Here it is the formula for confidence interval: \n",
    "u  ±  Z * (s/√n) \n",
    "Z score can be extracted from the confidence interval table. For 95% of confidence interval the Z-score is: 1.96. \n"
   ]
  },
  {
   "cell_type": "code",
   "execution_count": 125,
   "metadata": {},
   "outputs": [
    {
     "name": "stdout",
     "output_type": "stream",
     "text": [
      "(98.123679804428193, 98.374781734033363)\n",
      "15\n"
     ]
    }
   ],
   "source": [
    "s = temp_samp_std\n",
    "u = temp_samp_mean\n",
    "\n",
    "confidence_interval_end = u + (1.96 * s)/np.sqrt(len(df['temperature']))\n",
    "confidence_interval_beg = u - (1.96 * s)/np.sqrt(len(df['temperature']))\n",
    "confidence_interval = (confidence_interval_beg, confidence_interval_end)\n",
    "\n",
    "print (confidence_interval)\n",
    "\n",
    "print (((df['temperature'] > confidence_interval_beg) & (df['temperature'] < confidence_interval_end)).sum())"
   ]
  },
  {
   "cell_type": "markdown",
   "metadata": {},
   "source": [
    "As you can there a lot of observations (115) would not be in the range of confidence interval (mostly because of the small standard deviation of our observations compared to the mean), this does not make sence. So I am just considering that 95% of our observations should be in Normal range, So:"
   ]
  },
  {
   "cell_type": "code",
   "execution_count": 126,
   "metadata": {},
   "outputs": [
    {
     "name": "stdout",
     "output_type": "stream",
     "text": [
      "[ 96.7225  99.4775]\n"
     ]
    }
   ],
   "source": [
    "# Use percentile to figure out normal range\n",
    "\n",
    "normal_range = np.percentile(df['temperature'],[2.5,97.5])\n",
    "print (normal_range)"
   ]
  },
  {
   "cell_type": "markdown",
   "metadata": {},
   "source": [
    "So any body temperature outside the range of [96.7225 , 99.4775] can considered as be abnormal. "
   ]
  },
  {
   "cell_type": "markdown",
   "metadata": {},
   "source": [
    "### 6. Is there a significant difference between males and females in normal temperature? "
   ]
  },
  {
   "cell_type": "markdown",
   "metadata": {},
   "source": [
    "Since we are going to separate our original data set into two data sets and just compare the results of these two groups, we can use two-sample t_test. "
   ]
  },
  {
   "cell_type": "code",
   "execution_count": 127,
   "metadata": {
    "scrolled": true
   },
   "outputs": [
    {
     "name": "stdout",
     "output_type": "stream",
     "text": [
      "98.1046153846154 98.39384615384613\n"
     ]
    }
   ],
   "source": [
    "# Separating male and females \n",
    "\n",
    "male_df = df[df['gender']=='M']\n",
    "female_df = df[df['gender']=='F']\n",
    "\n",
    "# Male and female body temp mean\n",
    "\n",
    "male_mean = np.mean(male_df['temperature'])\n",
    "female_mean = np.mean(female_df['temperature'])\n",
    "print (male_mean , female_mean)"
   ]
  },
  {
   "cell_type": "markdown",
   "metadata": {},
   "source": [
    "In order to test whether there is a significant difference between males and females, I choose my null hypothesis as there is no significant difference between male and female body temperature as null hypothesis. "
   ]
  },
  {
   "cell_type": "code",
   "execution_count": 128,
   "metadata": {},
   "outputs": [
    {
     "name": "stdout",
     "output_type": "stream",
     "text": [
      "Ttest_indResult(statistic=-2.2854345381656103, pvalue=0.023931883122395609)\n"
     ]
    }
   ],
   "source": [
    "t_test_fem_male = stats.ttest_ind(male_df['temperature'],female_df['temperature'])\n",
    "print (t_test_fem_male)"
   ]
  },
  {
   "cell_type": "markdown",
   "metadata": {},
   "source": [
    "The p_value is lower than 0.05, so we can say there is a significant difference between male and femeals body temperatures, and females have relatively higher body temperature. "
   ]
  },
  {
   "cell_type": "markdown",
   "metadata": {},
   "source": [
    "In this piece, I figured out that the real body temperatue is a little bit different from the 98.6 F. Also the normal  body temperature with 95% confidence interval is within [96.7 , 99.4]. \n",
    "In addition, males and females have different average body temperature. "
   ]
  }
 ],
 "metadata": {
  "kernelspec": {
   "display_name": "Python 3",
   "language": "python",
   "name": "python3"
  },
  "language_info": {
   "codemirror_mode": {
    "name": "ipython",
    "version": 3
   },
   "file_extension": ".py",
   "mimetype": "text/x-python",
   "name": "python",
   "nbconvert_exporter": "python",
   "pygments_lexer": "ipython3",
   "version": "3.6.3"
  }
 },
 "nbformat": 4,
 "nbformat_minor": 1
}
